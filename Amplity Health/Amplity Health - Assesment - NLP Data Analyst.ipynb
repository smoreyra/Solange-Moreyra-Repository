{
 "cells": [
  {
   "cell_type": "markdown",
   "metadata": {},
   "source": [
    "# Amplity Health – NLP Data Analyst Assessment "
   ]
  },
  {
   "cell_type": "markdown",
   "metadata": {},
   "source": [
    "## 1. Introduction"
   ]
  },
  {
   "cell_type": "markdown",
   "metadata": {},
   "source": [
    "## 2. Setup and Imports\n",
    "\n",
    "Below, we import the necessary libraries ffor data manipulation, "
   ]
  },
  {
   "cell_type": "code",
   "execution_count": 3,
   "metadata": {},
   "outputs": [],
   "source": [
    "import pandas as pd\n",
    "import numpy as np\n",
    "\n",
    "# Visualización\n",
    "import matplotlib.pyplot as plt\n",
    "import seaborn as sns\n",
    "\n",
    "# Manejo de fechas\n",
    "from datetime import datetime"
   ]
  },
  {
   "cell_type": "markdown",
   "metadata": {},
   "source": [
    "## 3. Data Loading\n",
    "\n",
    "Loading the dataset and taking a quick look a its structure. "
   ]
  },
  {
   "cell_type": "code",
   "execution_count": 6,
   "metadata": {},
   "outputs": [
    {
     "data": {
      "text/plain": [
       "PatientID      int64\n",
       "Gender        object\n",
       "Age            int64\n",
       "Ethnicity     object\n",
       "State         object\n",
       "Treatment     object\n",
       "Pain Level    object\n",
       "Source        object\n",
       "Verbatim      object\n",
       "dtype: object"
      ]
     },
     "execution_count": 6,
     "metadata": {},
     "output_type": "execute_result"
    }
   ],
   "source": [
    "# csv type check\n",
    "df_dtypes_check = pd.read_csv('Amplity Health - Demographics Dataset.csv')\n",
    "\n",
    "df_dtypes_check.dtypes"
   ]
  },
  {
   "cell_type": "code",
   "execution_count": 12,
   "metadata": {},
   "outputs": [
    {
     "data": {
      "text/plain": [
       "PatientID     string[python]\n",
       "Gender                object\n",
       "Age                    int64\n",
       "Ethnicity             object\n",
       "State                 object\n",
       "Treatment             object\n",
       "Pain Level            object\n",
       "Source                object\n",
       "Verbatim              object\n",
       "dtype: object"
      ]
     },
     "execution_count": 12,
     "metadata": {},
     "output_type": "execute_result"
    }
   ],
   "source": [
    "dtypes = {\n",
    "    \"PatientID\": \"string\",  \n",
    "    \"Gender\": \"object\",\n",
    "    \"Age\": \"int64\",            \n",
    "    \"Ethnicity\": \"object\",\n",
    "    \"State\": \"object\",    \n",
    "    \"Treatment\": \"object\",\n",
    "    \"Pain Level\": \"object\",  \n",
    "    \"Source\": \"object\",   \n",
    "    \"#Docs\": \"object\"        \n",
    "}\n",
    "\n",
    "# Load the dataset\n",
    "df_demographics_dataset = pd.read_csv('Amplity Health - Demographics Dataset.csv', dtype = dtypes)\n",
    "\n",
    "df_demographics_dataset.dtypes"
   ]
  },
  {
   "cell_type": "code",
   "execution_count": 8,
   "metadata": {},
   "outputs": [
    {
     "name": "stdout",
     "output_type": "stream",
     "text": [
      "           PatientID  Gender  Age  Ethnicity       State Treatment Pain Level  \\\n",
      "0  62129246511442414    Male   73        NaN  California       NaN          6   \n",
      "1  62129246511442414    Male   72   Hispanic  California       NaN          7   \n",
      "2  62129246511442414    Male   72        NaN  California       NaN          7   \n",
      "3  13742511111862220  Female   69        NaN       Texas       NaN          7   \n",
      "4  24323368642361291  Female   69  Caucasian       Texas       NaN          4   \n",
      "\n",
      "  Source Verbatim  \n",
      "0    NaN      NaN  \n",
      "1    NaN      NaN  \n",
      "2    NaN      NaN  \n",
      "3    NaN      NaN  \n",
      "4    NaN      NaN  \n"
     ]
    }
   ],
   "source": [
    "# Display the first rows\n",
    "print(df_demographics_dataset.head())"
   ]
  },
  {
   "cell_type": "markdown",
   "metadata": {},
   "source": [
    "## 4. Age Analysis by Tratement"
   ]
  },
  {
   "cell_type": "markdown",
   "metadata": {},
   "source": [
    "### 4.1 Raw dataset first insigts"
   ]
  },
  {
   "cell_type": "code",
   "execution_count": 17,
   "metadata": {},
   "outputs": [
    {
     "name": "stdout",
     "output_type": "stream",
     "text": [
      "Demographic dataset shape: (152829, 9)\n"
     ]
    }
   ],
   "source": [
    "# Dataset dimentions\n",
    "print(f\"Demographic dataset shape: {df_demographics_dataset.shape}\")"
   ]
  },
  {
   "cell_type": "code",
   "execution_count": 18,
   "metadata": {},
   "outputs": [
    {
     "name": "stdout",
     "output_type": "stream",
     "text": [
      "PatientID          0\n",
      "Gender           419\n",
      "Age                0\n",
      "Ethnicity      97641\n",
      "State             18\n",
      "Treatment      64556\n",
      "Pain Level    149793\n",
      "Source        152244\n",
      "Verbatim      152589\n",
      "dtype: int64\n"
     ]
    }
   ],
   "source": [
    "# Check for missing values\n",
    "print(df_demographics_dataset.isnull().sum())"
   ]
  },
  {
   "cell_type": "code",
   "execution_count": 19,
   "metadata": {},
   "outputs": [
    {
     "name": "stdout",
     "output_type": "stream",
     "text": [
      "                 Age\n",
      "count  152829.000000\n",
      "mean       49.863848\n",
      "std        16.883897\n",
      "min        18.000000\n",
      "25%        37.000000\n",
      "50%        50.000000\n",
      "75%        62.000000\n",
      "max       103.000000\n"
     ]
    }
   ],
   "source": [
    "# Summary statistics\n",
    "print(df_demographics_dataset.describe())"
   ]
  },
  {
   "cell_type": "markdown",
   "metadata": {},
   "source": [
    "### 4.2 Change to the corresponding dataframe format"
   ]
  },
  {
   "cell_type": "code",
   "execution_count": null,
   "metadata": {},
   "outputs": [],
   "source": [
    "# Filter and keep the highest pain level per patient\n",
    "df_max_pain = df.groupby('PatientID').agg({'Pain Level': 'max'}).reset_index()\n",
    "\n",
    "# Merge with the Treatment column\n",
    "df_max_pain = pd.merge(df_max_pain, df[['PatientID', 'Treatment']], on='PatientID', how='left')\n",
    "\n",
    "# Calculate pain level statistics by treatment\n",
    "pain_analysis = df_max_pain.groupby('Treatment')['Pain Level'].agg(['mean', 'min', 'max', 'median']).reset_index()\n",
    "\n",
    "# Display pain level statistics\n",
    "print(pain_analysis)\n",
    "\n",
    "# Generate box plots for pain levels by treatment\n",
    "plt.figure(figsize=(10,6))\n",
    "sns.boxplot(x='Treatment', y='Pain Level', data=df_max_pain)\n",
    "plt.title('Pain Level Distribution by Treatment')\n",
    "plt.show()\n"
   ]
  },
  {
   "cell_type": "code",
   "execution_count": 15,
   "metadata": {},
   "outputs": [
    {
     "name": "stdout",
     "output_type": "stream",
     "text": [
      "tipo_orden\n",
      "INMEDIATA     297870\n",
      "PROGRAMADA      9117\n",
      "SIN APUROS      3166\n",
      "Name: count, dtype: int64\n"
     ]
    }
   ],
   "source": [
    "# Me fijo en las variables categóricas qué opciones hay y cuáles hay de cada una\n",
    "\n",
    "# tipo_orden\n",
    "print(df_bd_orders['tipo_orden'].value_counts())"
   ]
  }
 ],
 "metadata": {
  "kernelspec": {
   "display_name": "Python 3",
   "language": "python",
   "name": "python3"
  },
  "language_info": {
   "codemirror_mode": {
    "name": "ipython",
    "version": 3
   },
   "file_extension": ".py",
   "mimetype": "text/x-python",
   "name": "python",
   "nbconvert_exporter": "python",
   "pygments_lexer": "ipython3",
   "version": "3.11.9"
  }
 },
 "nbformat": 4,
 "nbformat_minor": 2
}
