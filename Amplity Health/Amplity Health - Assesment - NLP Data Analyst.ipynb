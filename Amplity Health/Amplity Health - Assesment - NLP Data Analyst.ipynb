{
 "cells": [
  {
   "cell_type": "markdown",
   "metadata": {},
   "source": [
    "# Amplity Health – NLP Data Analyst Assessment "
   ]
  },
  {
   "cell_type": "markdown",
   "metadata": {},
   "source": [
    "## 1. Introduction"
   ]
  },
  {
   "cell_type": "markdown",
   "metadata": {},
   "source": [
    "## 2. Setup and Imports\n",
    "\n",
    "Below, we import the necessary libraries ffor data manipulation, "
   ]
  },
  {
   "cell_type": "code",
   "execution_count": 3,
   "metadata": {},
   "outputs": [],
   "source": [
    "import pandas as pd\n",
    "import numpy as np\n",
    "\n",
    "# Visualización\n",
    "import matplotlib.pyplot as plt\n",
    "import seaborn as sns\n",
    "\n",
    "# Manejo de fechas\n",
    "from datetime import datetime"
   ]
  },
  {
   "cell_type": "markdown",
   "metadata": {},
   "source": [
    "## 3. Data Loading\n",
    "\n",
    "Loading the dataset and taking a quick look a its structure. "
   ]
  },
  {
   "cell_type": "code",
   "execution_count": 6,
   "metadata": {},
   "outputs": [
    {
     "data": {
      "text/plain": [
       "PatientID      int64\n",
       "Gender        object\n",
       "Age            int64\n",
       "Ethnicity     object\n",
       "State         object\n",
       "Treatment     object\n",
       "Pain Level    object\n",
       "Source        object\n",
       "Verbatim      object\n",
       "dtype: object"
      ]
     },
     "execution_count": 6,
     "metadata": {},
     "output_type": "execute_result"
    }
   ],
   "source": [
    "# csv type check\n",
    "df_dtypes_check = pd.read_csv('Amplity Health - Demographics Dataset.csv')\n",
    "\n",
    "df_dtypes_check.dtypes"
   ]
  },
  {
   "cell_type": "code",
   "execution_count": 12,
   "metadata": {},
   "outputs": [
    {
     "data": {
      "text/plain": [
       "PatientID     string[python]\n",
       "Gender                object\n",
       "Age                    int64\n",
       "Ethnicity             object\n",
       "State                 object\n",
       "Treatment             object\n",
       "Pain Level            object\n",
       "Source                object\n",
       "Verbatim              object\n",
       "dtype: object"
      ]
     },
     "execution_count": 12,
     "metadata": {},
     "output_type": "execute_result"
    }
   ],
   "source": [
    "dtypes = {\n",
    "    \"PatientID\": \"string\",  \n",
    "    \"Gender\": \"object\",\n",
    "    \"Age\": \"int64\",            \n",
    "    \"Ethnicity\": \"object\",\n",
    "    \"State\": \"object\",    \n",
    "    \"Treatment\": \"object\",\n",
    "    \"Pain Level\": \"object\",  \n",
    "    \"Source\": \"object\",   \n",
    "    \"#Docs\": \"object\"        \n",
    "}\n",
    "\n",
    "# Load the dataset\n",
    "df_demographics_dataset = pd.read_csv('Amplity Health - Demographics Dataset.csv', dtype = dtypes)\n",
    "\n",
    "df_demographics_dataset.dtypes"
   ]
  },
  {
   "cell_type": "code",
   "execution_count": 8,
   "metadata": {},
   "outputs": [
    {
     "name": "stdout",
     "output_type": "stream",
     "text": [
      "           PatientID  Gender  Age  Ethnicity       State Treatment Pain Level  \\\n",
      "0  62129246511442414    Male   73        NaN  California       NaN          6   \n",
      "1  62129246511442414    Male   72   Hispanic  California       NaN          7   \n",
      "2  62129246511442414    Male   72        NaN  California       NaN          7   \n",
      "3  13742511111862220  Female   69        NaN       Texas       NaN          7   \n",
      "4  24323368642361291  Female   69  Caucasian       Texas       NaN          4   \n",
      "\n",
      "  Source Verbatim  \n",
      "0    NaN      NaN  \n",
      "1    NaN      NaN  \n",
      "2    NaN      NaN  \n",
      "3    NaN      NaN  \n",
      "4    NaN      NaN  \n"
     ]
    }
   ],
   "source": [
    "# Display the first rows\n",
    "print(df_demographics_dataset.head())"
   ]
  },
  {
   "cell_type": "markdown",
   "metadata": {},
   "source": [
    "## 4. Age Analysis by Tratement"
   ]
  },
  {
   "cell_type": "markdown",
   "metadata": {},
   "source": [
    "### 4.1 Raw dataset first insigts"
   ]
  },
  {
   "cell_type": "code",
   "execution_count": 17,
   "metadata": {},
   "outputs": [
    {
     "name": "stdout",
     "output_type": "stream",
     "text": [
      "Demographic dataset shape: (152829, 9)\n"
     ]
    }
   ],
   "source": [
    "# Dataset dimentions\n",
    "print(f\"Demographic dataset shape: {df_demographics_dataset.shape}\")"
   ]
  },
  {
   "cell_type": "code",
   "execution_count": 18,
   "metadata": {},
   "outputs": [
    {
     "name": "stdout",
     "output_type": "stream",
     "text": [
      "PatientID          0\n",
      "Gender           419\n",
      "Age                0\n",
      "Ethnicity      97641\n",
      "State             18\n",
      "Treatment      64556\n",
      "Pain Level    149793\n",
      "Source        152244\n",
      "Verbatim      152589\n",
      "dtype: int64\n"
     ]
    }
   ],
   "source": [
    "# Check for missing values\n",
    "print(df_demographics_dataset.isnull().sum())"
   ]
  },
  {
   "cell_type": "code",
   "execution_count": 19,
   "metadata": {},
   "outputs": [
    {
     "name": "stdout",
     "output_type": "stream",
     "text": [
      "                 Age\n",
      "count  152829.000000\n",
      "mean       49.863848\n",
      "std        16.883897\n",
      "min        18.000000\n",
      "25%        37.000000\n",
      "50%        50.000000\n",
      "75%        62.000000\n",
      "max       103.000000\n"
     ]
    }
   ],
   "source": [
    "# Summary statistics\n",
    "print(df_demographics_dataset.describe())"
   ]
  },
  {
   "cell_type": "markdown",
   "metadata": {},
   "source": [
    "### 4.2 Change to the corresponding dataframe format"
   ]
  },
  {
   "cell_type": "code",
   "execution_count": 20,
   "metadata": {},
   "outputs": [
    {
     "name": "stdout",
     "output_type": "stream",
     "text": [
      "      Treatment       mean   min    max   50%\n",
      "0         Acute  45.025580  18.0  100.0  45.0\n",
      "1  Preventative  51.421936  18.0  103.0  51.0\n"
     ]
    }
   ],
   "source": [
    "df_max_age = df_demographics_dataset.groupby('PatientID').agg({'Age': 'max'}).reset_index()"
   ]
  },
  {
   "cell_type": "code",
   "execution_count": 25,
   "metadata": {},
   "outputs": [
    {
     "name": "stdout",
     "output_type": "stream",
     "text": [
      "   index            Age\n",
      "0  count  121356.000000\n",
      "1   mean      50.063969\n",
      "2    std      17.094464\n",
      "3    min      18.000000\n",
      "4    25%      37.000000\n",
      "5    50%      50.000000\n",
      "6    75%      62.000000\n",
      "7    max     103.000000\n"
     ]
    }
   ],
   "source": [
    "# Obtener el índice de la fila con la edad máxima por cada PatientID\n",
    "idx_max_age = df_demographics_dataset.groupby('PatientID')['Age'].idxmax()\n",
    "\n",
    "# Seleccionar las filas correspondientes a esos índices\n",
    "df_max_age = df_demographics_dataset.loc[idx_max_age, ['PatientID', 'Age', 'Treatment']].reset_index(drop=True)\n",
    "\n",
    "# Calculate statistics for each treatment\n",
    "age_analysis = df_max_age.describe().reset_index()\n",
    "\n",
    "# Display the age analysis\n",
    "print(age_analysis)"
   ]
  },
  {
   "cell_type": "code",
   "execution_count": null,
   "metadata": {},
   "outputs": [],
   "source": [
    "df_max_age = pd.merge(df_max_age, df_demographics_dataset[['PatientID', 'Treatment']], on='PatientID', how='left')\n",
    "\n",
    "# Pivot the data to have one row per PatientID, with age and treatment information\n",
    "df_max_age_pivot = df_max_age.pivot_table(index='PatientID', columns='Treatment', values='Age', aggfunc='max')\n",
    "\n",
    "# Calculate statistics for each treatment\n",
    "age_analysis = df_max_age_pivot.describe().T[['mean', 'min', 'max', '50%']].reset_index()\n",
    "\n",
    "# Display the age analysis\n",
    "print(age_analysis)"
   ]
  },
  {
   "cell_type": "code",
   "execution_count": 21,
   "metadata": {},
   "outputs": [
    {
     "name": "stdout",
     "output_type": "stream",
     "text": [
      "Treatment\n",
      "Preventative    67988\n",
      "Acute           20285\n",
      "Name: count, dtype: int64\n"
     ]
    }
   ],
   "source": [
    "# Types of tratement\n",
    "print(df_demographics_dataset['Treatment'].value_counts())"
   ]
  },
  {
   "cell_type": "markdown",
   "metadata": {},
   "source": [
    "### 5. Pain Level Anlysis by Tratement"
   ]
  },
  {
   "cell_type": "code",
   "execution_count": null,
   "metadata": {},
   "outputs": [],
   "source": []
  }
 ],
 "metadata": {
  "kernelspec": {
   "display_name": "Python 3",
   "language": "python",
   "name": "python3"
  },
  "language_info": {
   "codemirror_mode": {
    "name": "ipython",
    "version": 3
   },
   "file_extension": ".py",
   "mimetype": "text/x-python",
   "name": "python",
   "nbconvert_exporter": "python",
   "pygments_lexer": "ipython3",
   "version": "3.11.9"
  }
 },
 "nbformat": 4,
 "nbformat_minor": 2
}
