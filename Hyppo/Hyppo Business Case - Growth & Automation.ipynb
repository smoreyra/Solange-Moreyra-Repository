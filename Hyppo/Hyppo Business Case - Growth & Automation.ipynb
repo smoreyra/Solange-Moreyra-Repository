{
 "cells": [
  {
   "cell_type": "markdown",
   "metadata": {},
   "source": [
    "# Hyppo | Business Case - Growth & Automation"
   ]
  },
  {
   "cell_type": "markdown",
   "metadata": {},
   "source": [
    "## Sección 1: El negocio y el ciclo de vida del cliente"
   ]
  },
  {
   "cell_type": "markdown",
   "metadata": {},
   "source": [
    "### Librerías utilizadas\n",
    "\n",
    "- **pandas**: Para manipulación de datos tabulares.\n",
    "- **numpy**: Para operaciones matemáticas.\n",
    "- **matplotlib/seaborn**: Para visualización de datos.\n",
    "- **datetime**: Para manipulación de fechas."
   ]
  },
  {
   "cell_type": "code",
   "execution_count": 1,
   "metadata": {},
   "outputs": [],
   "source": [
    "# Librerías generales\n",
    "import pandas as pd\n",
    "import numpy as np\n",
    "\n",
    "# Visualización\n",
    "import matplotlib.pyplot as plt\n",
    "import seaborn as sns\n",
    "\n",
    "# Manejo de fechas\n",
    "from datetime import datetime"
   ]
  },
  {
   "cell_type": "markdown",
   "metadata": {},
   "source": [
    "### Carga de datos\n",
    "\n",
    "En esta sección se importan los datasets proporcionados."
   ]
  },
  {
   "cell_type": "code",
   "execution_count": null,
   "metadata": {},
   "outputs": [],
   "source": [
    "# Cargar datasets desde archivos Excel\n",
    "\n",
    "# Transacciones del período 2023 y 2024 hasta octubre\n",
    "df_bd_orders = pd.read_excel('bd_orders.xlsx', engine='openpyxl')\n",
    "\n",
    "# Base de datos de descargas de la app desde Diciembre 2022 en adelante\n",
    "df_BD_signups = pd.read_excel('BD_signups.xlsx', engine='openpyxl')"
   ]
  },
  {
   "cell_type": "code",
   "execution_count": null,
   "metadata": {},
   "outputs": [
    {
     "name": "stdout",
     "output_type": "stream",
     "text": [
      "       order_id                      order_date order_date_formatted  \\\n",
      "0  912710261SE1  2024-01-06 19:35:11.496613 UTC           2024-01-06   \n",
      "1  912709920SE1  2024-01-06 12:17:58.491384 UTC           2024-01-06   \n",
      "2  912709908SE1  2024-01-06 12:08:36.228774 UTC           2024-01-06   \n",
      "3  912709881SE1  2024-01-06 11:34:34.233489 UTC           2024-01-06   \n",
      "4  912709621SE1  2024-01-06 07:31:38.291595 UTC           2024-01-06   \n",
      "\n",
      "                    customer_id  shipping_value  total_value channel  \\\n",
      "0  WEec0P8u38AGmMpuvKnyovb9iY0=            3.29        31.13  Market   \n",
      "1  KxO6Jtcn9dRwJPm2lKIt+wzra0c=            3.29        30.47  Market   \n",
      "2  AdKieWspuschRsmhmx2ytMWcQ9M=            3.29        26.69  Market   \n",
      "3  AdKieWspuschRsmhmx2ytMWcQ9M=            3.29        35.73  Market   \n",
      "4  XQkIxFiUJZMSRULXM5XjSe0YTMk=            3.29        70.37  Market   \n",
      "\n",
      "  categoria tipo_orden      fecha_prometida  skus_pedidos  skus_entregados  \\\n",
      "0       NaN  INMEDIATA  2024-01-06 20:35:11             8              8.0   \n",
      "1       NaN  INMEDIATA  2024-01-06 13:17:58             9              9.0   \n",
      "2       NaN  INMEDIATA  2024-01-06 13:08:36            11             11.0   \n",
      "3       NaN  INMEDIATA  2024-01-06 12:34:34            12             12.0   \n",
      "4       NaN  INMEDIATA  2024-01-06 08:31:38            12             12.0   \n",
      "\n",
      "   items_pedidos  items_entregados  \n",
      "0             34                34  \n",
      "1             91                91  \n",
      "2             34                34  \n",
      "3             36                36  \n",
      "4             37                37  \n"
     ]
    }
   ],
   "source": [
    "# Visualizar las primeras filas de orders\n",
    "print(df_bd_orders.head())"
   ]
  },
  {
   "cell_type": "code",
   "execution_count": null,
   "metadata": {},
   "outputs": [
    {
     "name": "stdout",
     "output_type": "stream",
     "text": [
      "                    customer_id                  fecha_registro  \\\n",
      "0  g5lKDcWZDJzFMzJ2Bl6VaHpJiwM=  2023-04-04 10:14:31.000000 UTC   \n",
      "1  ucMqsvu35mpXquTuxpfuclwXbo4=  2024-01-09 18:32:02.000000 UTC   \n",
      "2  ABoOKaQVIsD7p16ZdWmL0EIQZNE=  2023-01-15 15:48:04.000000 UTC   \n",
      "3  Wo5RRGAF8PBRh0A9jDbVnvzR1jQ=  2024-04-12 17:33:25.000000 UTC   \n",
      "4  If1cgc2vscM3PevKkFCRlpkx5vQ=  2023-04-03 20:45:32.000000 UTC   \n",
      "\n",
      "  fecha_registro_formatted  \n",
      "0               2023-04-04  \n",
      "1               2024-01-09  \n",
      "2               2023-01-15  \n",
      "3               2024-04-12  \n",
      "4               2023-04-03  \n"
     ]
    }
   ],
   "source": [
    "# Visualizar las primeras filas de signups\n",
    "print(df_BD_signups.head())"
   ]
  },
  {
   "cell_type": "markdown",
   "metadata": {},
   "source": [
    "### Análisis exploratorio de datos (EDA)\n",
    "\n",
    "- **Shape**: Dimensiones de los datasets.\n",
    "- **Missing values**: Identificación de valores nulos.\n",
    "- **Distribuciones**: Análisis de distribuciones clave."
   ]
  },
  {
   "cell_type": "code",
   "execution_count": null,
   "metadata": {},
   "outputs": [
    {
     "name": "stdout",
     "output_type": "stream",
     "text": [
      "File db orders shape: (310153, 14)\n",
      "File db signups shape: (18411, 3)\n"
     ]
    }
   ],
   "source": [
    "# Dimensiones de los datasets\n",
    "print(f\"File bd orders shape: {df_bd_orders.shape}\")\n",
    "print(f\"File bd signups shape: {df_BD_signups.shape}\")"
   ]
  },
  {
   "cell_type": "code",
   "execution_count": 17,
   "metadata": {},
   "outputs": [
    {
     "data": {
      "text/plain": [
       "order_id                        object\n",
       "order_date                      object\n",
       "order_date_formatted    datetime64[ns]\n",
       "customer_id                     object\n",
       "shipping_value                 float64\n",
       "total_value                    float64\n",
       "channel                         object\n",
       "categoria                       object\n",
       "tipo_orden                      object\n",
       "fecha_prometida                 object\n",
       "skus_pedidos                     int64\n",
       "skus_entregados                float64\n",
       "items_pedidos                    int64\n",
       "items_entregados                 int64\n",
       "dtype: object"
      ]
     },
     "execution_count": 17,
     "metadata": {},
     "output_type": "execute_result"
    }
   ],
   "source": [
    "# Me fijo el tipo de dato de cada uno, tengo que validar el tipo de dato tenga sentido. \n",
    "df_bd_orders.dtypes"
   ]
  },
  {
   "cell_type": "code",
   "execution_count": 19,
   "metadata": {},
   "outputs": [
    {
     "data": {
      "text/plain": [
       "customer_id                         object\n",
       "fecha_registro                      object\n",
       "fecha_registro_formatted    datetime64[ns]\n",
       "dtype: object"
      ]
     },
     "execution_count": 19,
     "metadata": {},
     "output_type": "execute_result"
    }
   ],
   "source": [
    "# Me fijo el tipo de dato de cada uno, tengo que validar el tipo de dato tenga sentido. \n",
    "df_BD_signups.dtypes"
   ]
  },
  {
   "cell_type": "code",
   "execution_count": null,
   "metadata": {},
   "outputs": [
    {
     "name": "stdout",
     "output_type": "stream",
     "text": [
      "customer_id                 0\n",
      "fecha_registro              0\n",
      "fecha_registro_formatted    0\n",
      "dtype: int64\n"
     ]
    }
   ],
   "source": [
    "# Valores nulos bd orders\n",
    "print(df_bd_orders.isnull().sum())"
   ]
  },
  {
   "cell_type": "code",
   "execution_count": null,
   "metadata": {},
   "outputs": [
    {
     "name": "stdout",
     "output_type": "stream",
     "text": [
      "customer_id                 0\n",
      "fecha_registro              0\n",
      "fecha_registro_formatted    0\n",
      "dtype: int64\n"
     ]
    }
   ],
   "source": [
    "# Valores nulos bd signups\n",
    "print(df_BD_signups.isnull().sum())"
   ]
  },
  {
   "cell_type": "code",
   "execution_count": 16,
   "metadata": {},
   "outputs": [
    {
     "name": "stdout",
     "output_type": "stream",
     "text": [
      "                order_date_formatted  shipping_value    total_value  \\\n",
      "count                         310153   310153.000000  310153.000000   \n",
      "mean   2023-11-02 14:49:55.324243456        2.576440      35.969412   \n",
      "min              2023-01-01 00:00:00        0.000000      -2.160000   \n",
      "25%              2023-05-16 00:00:00        2.350000      12.540000   \n",
      "50%              2023-10-24 00:00:00        3.290000      22.310000   \n",
      "75%              2024-04-16 00:00:00        3.290000      42.770000   \n",
      "max              2024-10-23 00:00:00        7.500000     595.910000   \n",
      "std                              NaN        1.218902      41.104948   \n",
      "\n",
      "        skus_pedidos  skus_entregados  items_pedidos  items_entregados  \n",
      "count  310153.000000    306584.000000  310153.000000     310153.000000  \n",
      "mean        8.587926         8.288723      13.507337         12.826460  \n",
      "min         1.000000         0.000000       1.000000          0.000000  \n",
      "25%         2.000000         2.000000       3.000000          2.000000  \n",
      "50%         4.000000         4.000000       7.000000          6.000000  \n",
      "75%        11.000000        10.000000      17.000000         16.000000  \n",
      "max       157.000000       156.000000     445.000000        416.000000  \n",
      "std        10.983817        10.738845      18.484566         17.881077  \n"
     ]
    }
   ],
   "source": [
    "# Estadísticas descriptivas bd orders\n",
    "print(df_bd_orders.describe())"
   ]
  },
  {
   "cell_type": "code",
   "execution_count": 15,
   "metadata": {},
   "outputs": [
    {
     "name": "stdout",
     "output_type": "stream",
     "text": [
      "            fecha_registro_formatted\n",
      "count                          18411\n",
      "mean   2023-10-29 10:58:33.768942336\n",
      "min              2022-12-01 00:00:00\n",
      "25%              2023-04-29 00:00:00\n",
      "50%              2023-11-17 00:00:00\n",
      "75%              2024-04-27 00:00:00\n",
      "max              2024-10-23 00:00:00\n"
     ]
    }
   ],
   "source": [
    "# Estadísticas descriptivas bd singups\n",
    "print(df_BD_signups.describe())"
   ]
  },
  {
   "cell_type": "code",
   "execution_count": null,
   "metadata": {},
   "outputs": [
    {
     "name": "stdout",
     "output_type": "stream",
     "text": [
      "channel\n",
      "Market    221947\n",
      "Eats       88206\n",
      "Name: count, dtype: int64\n"
     ]
    }
   ],
   "source": [
    "# Me fijo en las variables categóricas qué opciones hay y cuáles hay de cada una\n",
    "\n",
    "# channel\n",
    "print(df_bd_orders['channel'].value_counts())"
   ]
  },
  {
   "cell_type": "code",
   "execution_count": null,
   "metadata": {},
   "outputs": [
    {
     "name": "stdout",
     "output_type": "stream",
     "text": [
      "categoria\n",
      "BBQ & Grill                             22334\n",
      "Hamburguesas                            21151\n",
      "Cafetería                               11543\n",
      "Populares                                5954\n",
      "Helado y Yogurt                          5942\n",
      "Ecuatoriana                              3960\n",
      "Internacional                            2956\n",
      "Asiática                                 2704\n",
      "Pizza                                    2546\n",
      "Top del mes                              2036\n",
      "Saludable                                1349\n",
      "Mexicana                                  986\n",
      "Mariscos                                  845\n",
      "Postres                                   743\n",
      "Árabe                                     633\n",
      "Super Promos por el Día del Canguil!      280\n",
      "Promociones Exclusivas                    223\n",
      "Gourmet                                    65\n",
      "Comida rápida                              32\n",
      "Hasta 50% OFF en Desayunos                  6\n",
      "Name: count, dtype: int64\n"
     ]
    }
   ],
   "source": [
    "# Me fijo en las variables categóricas qué opciones hay y cuáles hay de cada una\n",
    "\n",
    "# categoria\n",
    "print(df_bd_orders['categoria'].value_counts())"
   ]
  },
  {
   "cell_type": "code",
   "execution_count": null,
   "metadata": {},
   "outputs": [
    {
     "name": "stdout",
     "output_type": "stream",
     "text": [
      "tipo_orden\n",
      "INMEDIATA     297870\n",
      "PROGRAMADA      9117\n",
      "SIN APUROS      3166\n",
      "Name: count, dtype: int64\n"
     ]
    }
   ],
   "source": [
    "# Me fijo en las variables categóricas qué opciones hay y cuáles hay de cada una\n",
    "\n",
    "# tipo_orden\n",
    "print(df_bd_orders['tipo_orden'].value_counts())"
   ]
  },
  {
   "cell_type": "markdown",
   "metadata": {},
   "source": [
    "## Sección 2: Estrategia de marketing\n"
   ]
  },
  {
   "cell_type": "markdown",
   "metadata": {},
   "source": [
    "### Carga de datos\n",
    "\n",
    "En esta sección se importan los datasets proporcionados."
   ]
  },
  {
   "cell_type": "code",
   "execution_count": 28,
   "metadata": {},
   "outputs": [],
   "source": [
    "# Cargar datasets desde archivos Excel\n",
    "\n",
    "# Base de datos sobre las campañas de envíos automatizados de comunicaciones que tuvo prendida \n",
    "# el cliente durante Q3 2024 con un detalle de los envíos realizados\n",
    "df_BD_campaigns_Q3 = pd.read_excel('bd_campaigns_q3.xlsx', engine='openpyxl')"
   ]
  },
  {
   "cell_type": "code",
   "execution_count": 29,
   "metadata": {},
   "outputs": [
    {
     "name": "stdout",
     "output_type": "stream",
     "text": [
      "   workspace_id               created_at  campaign_id           campaign_name  \\\n",
      "0        145987  2024-09-25 15:00:15 UTC            8  1. Onboarding Campaign   \n",
      "1        145987  2024-09-25 15:00:19 UTC            8  1. Onboarding Campaign   \n",
      "2        145987  2024-09-25 15:00:15 UTC            8  1. Onboarding Campaign   \n",
      "3        145987  2024-09-25 15:00:11 UTC            8  1. Onboarding Campaign   \n",
      "4        145987  2024-09-25 15:00:18 UTC            8  1. Onboarding Campaign   \n",
      "\n",
      "   newsletter_id  content_id     metric  metric_reason  \\\n",
      "0            NaN         272  delivered            NaN   \n",
      "1            NaN         272  delivered            NaN   \n",
      "2            NaN         272  delivered            NaN   \n",
      "3            NaN         272  delivered            NaN   \n",
      "4            NaN         272  delivered            NaN   \n",
      "\n",
      "                    customer_id                   subject  \\\n",
      "0  N/BUwz4cGzuY3Y/oYewW9v59fnI=  🛒 Haz tu primera compra!   \n",
      "1  sXt9O+HXjTa9u2/rkg4Rr0aiP04=  🛒 Haz tu primera compra!   \n",
      "2  cpsWD4JjehMOM6dyfyfMMFM/Hgs=  🛒 Haz tu primera compra!   \n",
      "3  7uR+KDLxan0rOQ+lD4U8BgBhz9I=  🛒 Haz tu primera compra!   \n",
      "4  Sp/r+tiPATtPmhn2JlDp/5MYeb8=  🛒 Haz tu primera compra!   \n",
      "\n",
      "                   preheader delivery_type  \n",
      "0  No te pierdas este cupón!         email  \n",
      "1  No te pierdas este cupón!         email  \n",
      "2  No te pierdas este cupón!         email  \n",
      "3  No te pierdas este cupón!         email  \n",
      "4  No te pierdas este cupón!         email  \n"
     ]
    }
   ],
   "source": [
    "# Visualizar las primeras filas de orders\n",
    "print(df_BD_campaigns_Q3.head())"
   ]
  },
  {
   "cell_type": "markdown",
   "metadata": {},
   "source": [
    "### Análisis exploratorio de datos (EDA)\n",
    "\n",
    "- **Shape**: Dimensiones de los datasets.\n",
    "- **Missing values**: Identificación de valores nulos.\n",
    "- **Distribuciones**: Análisis de distribuciones clave."
   ]
  },
  {
   "cell_type": "code",
   "execution_count": 30,
   "metadata": {},
   "outputs": [
    {
     "name": "stdout",
     "output_type": "stream",
     "text": [
      "File bd campaigns q3 shape: (329902, 12)\n"
     ]
    }
   ],
   "source": [
    "# Dimensiones de los datasets\n",
    "print(f\"File bd campaigns q3 shape: {df_BD_campaigns_Q3.shape}\")"
   ]
  },
  {
   "cell_type": "code",
   "execution_count": 31,
   "metadata": {},
   "outputs": [
    {
     "data": {
      "text/plain": [
       "workspace_id       int64\n",
       "created_at        object\n",
       "campaign_id        int64\n",
       "campaign_name     object\n",
       "newsletter_id    float64\n",
       "content_id         int64\n",
       "metric            object\n",
       "metric_reason    float64\n",
       "customer_id       object\n",
       "subject           object\n",
       "preheader         object\n",
       "delivery_type     object\n",
       "dtype: object"
      ]
     },
     "execution_count": 31,
     "metadata": {},
     "output_type": "execute_result"
    }
   ],
   "source": [
    "# Me fijo el tipo de dato de cada uno, tengo que validar el tipo de dato tenga sentido. \n",
    "df_BD_campaigns_Q3.dtypes"
   ]
  },
  {
   "cell_type": "code",
   "execution_count": 32,
   "metadata": {},
   "outputs": [
    {
     "name": "stdout",
     "output_type": "stream",
     "text": [
      "workspace_id          0\n",
      "created_at            0\n",
      "campaign_id           0\n",
      "campaign_name         0\n",
      "newsletter_id    329902\n",
      "content_id            0\n",
      "metric                0\n",
      "metric_reason    329902\n",
      "customer_id           0\n",
      "subject               0\n",
      "preheader         38371\n",
      "delivery_type         0\n",
      "dtype: int64\n"
     ]
    }
   ],
   "source": [
    "# Valores nulos bd orders\n",
    "print(df_BD_campaigns_Q3.isnull().sum())"
   ]
  },
  {
   "cell_type": "code",
   "execution_count": null,
   "metadata": {},
   "outputs": [],
   "source": []
  }
 ],
 "metadata": {
  "kernelspec": {
   "display_name": "Python 3",
   "language": "python",
   "name": "python3"
  },
  "language_info": {
   "codemirror_mode": {
    "name": "ipython",
    "version": 3
   },
   "file_extension": ".py",
   "mimetype": "text/x-python",
   "name": "python",
   "nbconvert_exporter": "python",
   "pygments_lexer": "ipython3",
   "version": "3.11.9"
  }
 },
 "nbformat": 4,
 "nbformat_minor": 2
}
